{
 "cells": [
  {
   "cell_type": "markdown",
   "metadata": {},
   "source": [
    "## Load Module"
   ]
  },
  {
   "cell_type": "code",
   "execution_count": 1,
   "metadata": {},
   "outputs": [],
   "source": [
    "from gate_util import *\n",
    "from merge_func import *\n",
    "from commute_func import *\n",
    "from autocomm import *"
   ]
  },
  {
   "cell_type": "markdown",
   "metadata": {},
   "source": [
    "## MCTR"
   ]
  },
  {
   "cell_type": "code",
   "execution_count": 2,
   "metadata": {},
   "outputs": [],
   "source": [
    "def multi_controlled(num_qubit, qb_per_node):\n",
    "    gates = []\n",
    "    # cq: 0-48 tq: 98 # cq: 49-98 tq: 99\n",
    "    cfg = [([i for i in range(num_qubit//2-1)],num_qubit-2),([i for i in range(num_qubit//2-1, num_qubit-1)],num_qubit-1),([i for i in range(num_qubit//2-1)],num_qubit-2),([i for i in range(num_qubit//2-1, num_qubit-1)],num_qubit-1)]\n",
    "    for cq, tq in cfg:\n",
    "        idle_qubit = []\n",
    "        for i in range(num_qubit):\n",
    "            if i not in cq and i != tq:\n",
    "                idle_qubit.append(i)\n",
    "        rev_gate = []\n",
    "        toffoli_tq = tq\n",
    "        for i, idx in enumerate(cq[2:][::-1]):\n",
    "            # cq: idx, idle_qubit\n",
    "            toffoli_cq1 = idx\n",
    "            toffoli_cq2 = idle_qubit[-i-1]\n",
    "            gates.append(build_toffoli_gate(toffoli_cq1,toffoli_cq2,toffoli_tq))\n",
    "            rev_gate.insert(0, build_toffoli_gate(toffoli_cq1,toffoli_cq2,toffoli_tq))\n",
    "            toffoli_tq = toffoli_cq2\n",
    "        toffoli_cq1 = cq[0]\n",
    "        toffoli_cq2 = cq[1]\n",
    "        toffoli_tq = idle_qubit[-i-1]\n",
    "        gates.append(build_toffoli_gate(toffoli_cq1,toffoli_cq2,toffoli_tq))\n",
    "        for gl in rev_gate:\n",
    "            gates.append(gl)\n",
    "        rev_gate = []\n",
    "        for i, idx in enumerate(cq[2:-1][::-1]):\n",
    "            # cq: idx, idle_qubit\n",
    "            toffoli_cq1 = idx\n",
    "            toffoli_cq2 = idle_qubit[-i-1]\n",
    "            gates.append(build_toffoli_gate(toffoli_cq1,toffoli_cq2,toffoli_tq))\n",
    "            rev_gate.insert(0, build_toffoli_gate(toffoli_cq1,toffoli_cq2,toffoli_tq))\n",
    "            toffoli_tq = toffoli_cq2\n",
    "        toffoli_cq1 = cq[0]\n",
    "        toffoli_cq2 = cq[1]\n",
    "        toffoli_tq = idle_qubit[-i-1]\n",
    "        gates.append(build_toffoli_gate(toffoli_cq1,toffoli_cq2,toffoli_tq))\n",
    "        for gl in rev_gate:\n",
    "            gates.append(gl)\n",
    "    qubit_node_mapping = [i//qb_per_node for i in range(num_qubit)]\n",
    "    return gates, qubit_node_mapping"
   ]
  },
  {
   "cell_type": "code",
   "execution_count": 3,
   "metadata": {},
   "outputs": [
    {
     "name": "stdout",
     "output_type": "stream",
     "text": [
      "1072 14270.70000000052\n",
      "3192 1072 2.9776119402985075\n"
     ]
    }
   ],
   "source": [
    "num_q, qb_per_node = 100, 10\n",
    "gate_list, qubit_node_mapping = multi_controlled(num_q, qb_per_node)\n",
    "epr_cnt, all_latency, assigned_gate_block_list1 = autocomm_full(gate_list, qubit_node_mapping, allow_local_view=True, aggregate_iter_cnt=6, schedule_iter_cnt=10)\n",
    "print(epr_cnt, all_latency)\n",
    "\n",
    "cnt = 0\n",
    "for sub_gl in gate_list:\n",
    "    for g in sub_gl:\n",
    "        qbs = gate_qubits(g)\n",
    "        if len(qbs) == 2:\n",
    "            if qubit_node_mapping[qbs[0]] != qubit_node_mapping[qbs[1]]:\n",
    "                cnt += 1\n",
    "print(cnt, epr_cnt, cnt/epr_cnt)"
   ]
  },
  {
   "cell_type": "code",
   "execution_count": 4,
   "metadata": {},
   "outputs": [
    {
     "name": "stdout",
     "output_type": "stream",
     "text": [
      "1072 14270.70000000052\n"
     ]
    }
   ],
   "source": [
    "num_q, qb_per_node = 100, 10\n",
    "gate_list, qubit_node_mapping = multi_controlled(num_q, qb_per_node)\n",
    "new_gate_list = []\n",
    "for sub_gl in gate_list:\n",
    "    new_gate_list.extend(sub_gl)\n",
    "\n",
    "epr_cnt, all_latency, assigned_gate_block_list1 = autocomm_full(new_gate_list, qubit_node_mapping, allow_local_view=False, allow_test_merge=True, aggregate_iter_cnt=6, schedule_iter_cnt=10)\n",
    "print(epr_cnt, all_latency)"
   ]
  },
  {
   "cell_type": "markdown",
   "metadata": {},
   "source": [
    "## BV"
   ]
  },
  {
   "cell_type": "code",
   "execution_count": 5,
   "metadata": {},
   "outputs": [],
   "source": [
    "def BV(num_qubits, qb_per_node):\n",
    "    gate_list = []\n",
    "    for i in range(num_qubits-1):\n",
    "        gate_list.append(build_gate(\"CX\", [0, i+1]))\n",
    "    qubit_node_mapping = [i//qb_per_node for i in range(num_qubits)] # optimal mapping obtained\n",
    "    return gate_list, qubit_node_mapping"
   ]
  },
  {
   "cell_type": "code",
   "execution_count": 9,
   "metadata": {},
   "outputs": [
    {
     "name": "stdout",
     "output_type": "stream",
     "text": [
      "9 221.6999999999999\n"
     ]
    }
   ],
   "source": [
    "num_q, qb_per_node = 100, 10\n",
    "gate_list, qubit_node_mapping = BV(num_q, qb_per_node)\n",
    "epr_cnt, all_latency, assigned_gate_block_list1 = autocomm_full(gate_list, qubit_node_mapping, aggregate_iter_cnt=num_q//qb_per_node, schedule_iter_cnt=num_q//qb_per_node)\n",
    "print(epr_cnt, all_latency)"
   ]
  },
  {
   "cell_type": "markdown",
   "metadata": {},
   "source": [
    "## QFT"
   ]
  },
  {
   "cell_type": "code",
   "execution_count": 10,
   "metadata": {},
   "outputs": [],
   "source": [
    "def QFT(num_qubits, qb_per_node):\n",
    "    gate_list = []\n",
    "    for i in range(num_qubits-1):\n",
    "        gate_list.append(build_H_gate(i))\n",
    "        for j in range(i+1, num_qubits):\n",
    "            gate_list.append(build_CX_gate(j,i))\n",
    "            gate_list.append(build_RZ_gate(i,angle=-np.pi/4/2**(j-i)))\n",
    "            gate_list.append(build_CX_gate(j,i))\n",
    "            gate_list.append(build_RZ_gate(i,angle=np.pi/4/2**(j-i)))\n",
    "    qubit_node_mapping = [i//qb_per_node for i in range(num_qubits)] # optimal mapping obtained\n",
    "    return gate_list, qubit_node_mapping"
   ]
  },
  {
   "cell_type": "code",
   "execution_count": 13,
   "metadata": {},
   "outputs": [
    {
     "name": "stdout",
     "output_type": "stream",
     "text": [
      "4640 43644.69999999408\n"
     ]
    }
   ],
   "source": [
    "num_q, qb_per_node = 300, 10\n",
    "gate_list, qubit_node_mapping = QFT(num_q, qb_per_node)\n",
    "epr_cnt, all_latency, assigned_gate_block_list1 = autocomm_full(gate_list, qubit_node_mapping, allow_gate_pattern=True, aggregate_iter_cnt=1, schedule_iter_cnt=num_q//qb_per_node)\n",
    "print(epr_cnt, all_latency)"
   ]
  },
  {
   "cell_type": "markdown",
   "metadata": {},
   "source": [
    "## QAOA"
   ]
  },
  {
   "cell_type": "code",
   "execution_count": 14,
   "metadata": {},
   "outputs": [],
   "source": [
    "def QAOA(num_terms, num_qubits, qb_per_node):\n",
    "    import random\n",
    "    gate_list = []\n",
    "    for i in range(num_terms):\n",
    "        qa, qb = random.sample(list(range(num_qubits)), 2)\n",
    "        gate_list.append(build_CX_gate(qa,qb))\n",
    "        gate_list.append(build_RZ_gate(qb,angle=0.1))\n",
    "        gate_list.append(build_CX_gate(qa,qb))\n",
    "    qubit_node_mapping = [i//qb_per_node for i in range(num_qubits)]\n",
    "    return gate_list, qubit_node_mapping"
   ]
  },
  {
   "cell_type": "code",
   "execution_count": 16,
   "metadata": {},
   "outputs": [
    {
     "name": "stdout",
     "output_type": "stream",
     "text": [
      "2.1176470588235294\n"
     ]
    }
   ],
   "source": [
    "num_q, qb_per_node = 100, 10\n",
    "gate_list, qubit_node_mapping = QAOA(100, num_q, qb_per_node)\n",
    "epr_cnt, all_latency, assigned_gate_block_list1 = autocomm_full(gate_list, qubit_node_mapping, allow_gate_pattern=True, aggregate_iter_cnt=num_q//qb_per_node, schedule_iter_cnt=num_q//qb_per_node)\n",
    "cnt = 0\n",
    "for g in gate_list:\n",
    "    qbs = gate_qubits(g)\n",
    "    if len(qbs) == 2:\n",
    "        if qubit_node_mapping[qbs[0]] != qubit_node_mapping[qbs[1]]:\n",
    "            cnt += 1\n",
    "print(cnt/epr_cnt)"
   ]
  },
  {
   "cell_type": "markdown",
   "metadata": {},
   "source": [
    "## RCA"
   ]
  },
  {
   "cell_type": "code",
   "execution_count": 17,
   "metadata": {},
   "outputs": [],
   "source": [
    "def RCA(num_qubits, qb_per_node):\n",
    "    start_qb = 0\n",
    "    gate_list = []\n",
    "    while start_qb < num_qubits-3:\n",
    "        qa, qb, qc = start_qb, start_qb+1, start_qb+2\n",
    "        gate_list.append(build_CX_gate(qc,qb))\n",
    "        gate_list.append(build_CX_gate(qc,qa))\n",
    "        gate_list += build_toffoli_gate(qa, qb, qc)\n",
    "        start_qb += 2\n",
    "    start_qb -= 2\n",
    "    gate_list.append(build_CX_gate(start_qb,start_qb+1))\n",
    "    while start_qb > 0:\n",
    "        qa, qb, qc = start_qb-2,start_qb-1,start_qb\n",
    "        gate_list += build_toffoli_gate(qa, qb, qc)\n",
    "        gate_list.append(build_CX_gate(qc,qa))\n",
    "        gate_list.append(build_CX_gate(qa,qb))\n",
    "        start_qb -= 2\n",
    "    qubit_node_mapping = [i//qb_per_node for i in range(num_qubits)] # the optimal one\n",
    "    return gate_list, qubit_node_mapping"
   ]
  },
  {
   "cell_type": "code",
   "execution_count": 23,
   "metadata": {},
   "outputs": [
    {
     "name": "stdout",
     "output_type": "stream",
     "text": [
      "36 822.1000000000079\n"
     ]
    }
   ],
   "source": [
    "num_q, qb_per_node = 100, 10\n",
    "gate_list, qubit_node_mapping = RCA(num_q, qb_per_node)\n",
    "epr_cnt, all_latency, assigned_gate_block_list1 = autocomm_full(gate_list, qubit_node_mapping, aggregate_iter_cnt=3, schedule_iter_cnt=num_q//qb_per_node)\n",
    "print(epr_cnt, all_latency)"
   ]
  }
 ],
 "metadata": {
  "kernelspec": {
   "display_name": "disqpu",
   "language": "python",
   "name": "python3"
  },
  "language_info": {
   "codemirror_mode": {
    "name": "ipython",
    "version": 3
   },
   "file_extension": ".py",
   "mimetype": "text/x-python",
   "name": "python",
   "nbconvert_exporter": "python",
   "pygments_lexer": "ipython3",
   "version": "3.10.5"
  }
 },
 "nbformat": 4,
 "nbformat_minor": 2
}
